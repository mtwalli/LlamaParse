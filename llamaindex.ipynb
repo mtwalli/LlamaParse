{
 "cells": [
  {
   "cell_type": "markdown",
   "id": "86fd39e1",
   "metadata": {},
   "source": [
    "# Import Llama Parse"
   ]
  },
  {
   "cell_type": "code",
   "execution_count": 2,
   "id": "aa1e486b-cc3b-41a2-86a7-d2fe2d396c3e",
   "metadata": {},
   "outputs": [],
   "source": [
    "from llama_parse import LlamaParse\n",
    "from dotenv import load_dotenv, find_dotenv\n",
    "import nest_asyncio\n",
    "import os"
   ]
  },
  {
   "cell_type": "code",
   "execution_count": 3,
   "id": "59677f22-6614-4bd4-9747-2b7190164e8c",
   "metadata": {},
   "outputs": [],
   "source": [
    "load_dotenv(find_dotenv())\n",
    "parser = LlamaParse(\n",
    "    result_type=\"markdown\",\n",
    "    num_workers=4,\n",
    "    verbose=True\n",
    ")"
   ]
  },
  {
   "cell_type": "code",
   "execution_count": 4,
   "id": "a9c54aa6",
   "metadata": {},
   "outputs": [
    {
     "name": "stdout",
     "output_type": "stream",
     "text": [
      "Started parsing the file under job_id e3f64e46-3bf2-4269-a90e-5373f28528eb\n"
     ]
    }
   ],
   "source": [
    "nest_asyncio.apply()\n",
    "documents = parser.load_data('temp/Unterlagen.pdf')"
   ]
  },
  {
   "cell_type": "code",
   "execution_count": 5,
   "id": "c4dea056",
   "metadata": {},
   "outputs": [],
   "source": [
    "file_name = \"temp/Unterlagen.md\"\n",
    "text = ''\n",
    "for document in documents:\n",
    "    text += document.text\n",
    "\n",
    "with open(file_name, 'w') as file:\n",
    "    file.write(text)\n"
   ]
  },
  {
   "cell_type": "code",
   "execution_count": 6,
   "id": "9838aff4",
   "metadata": {},
   "outputs": [],
   "source": [
    "from llama_index.core import VectorStoreIndex\n",
    "\n",
    "vector_index = VectorStoreIndex(documents)"
   ]
  },
  {
   "cell_type": "code",
   "execution_count": 7,
   "id": "047cc614",
   "metadata": {},
   "outputs": [],
   "source": [
    "query_engine = vector_index.as_query_engine(similarity_top_k=6)"
   ]
  },
  {
   "cell_type": "code",
   "execution_count": 14,
   "id": "cb2ea2c4",
   "metadata": {},
   "outputs": [],
   "source": [
    "response = query_engine.query(\"Was sind die benötgten Unterlagen für die Anmeldung in einer Liste?\")"
   ]
  },
  {
   "cell_type": "code",
   "execution_count": 15,
   "id": "7a9748f1",
   "metadata": {},
   "outputs": [
    {
     "name": "stdout",
     "output_type": "stream",
     "text": [
      "- gültige Ausweispapiere in Kopie\n",
      "- Lebenslauf\n",
      "- aktuelles Lichtbild\n",
      "- beglaubigte Abschrift aus dem Heiratsregister oder Auszug aus dem Heiratsregister\n",
      "- Geburtsurkunde oder internationale Geburtsurkunde\n",
      "- Heiratsurkunde oder internationale Heiratsurkunde\n",
      "- Geburtsurkunden der Kinder\n",
      "- Nachweis der deutschen Staatsangehörigkeit des Ehegatten\n",
      "- Scheidungsurteil(e)\n",
      "- Sorgerechtsnachweis\n",
      "- Nachweis der Unterhaltsverpflichtungen\n",
      "- Zeugnisse oder Nachweise von besuchten Ausbildungsstätten\n",
      "- Nachweise der Berufsausbildung und Fortbildung\n",
      "- Nachweise der Beschäftigungszeiten\n",
      "- Bescheinigung des Arbeitgebers über das aktuelle Arbeitsverhältnis\n",
      "- neueste Gehaltsabrechnung\n",
      "- neuester Rentenbescheid / Rentenmitteilung\n",
      "- aktuelle Rentenauskunft mit Anlagen\n",
      "- Nachweise über private Altersvorsorge\n"
     ]
    }
   ],
   "source": [
    "print(response)"
   ]
  },
  {
   "cell_type": "code",
   "execution_count": 16,
   "id": "ed4ce7e9",
   "metadata": {},
   "outputs": [],
   "source": [
    "response = query_engine.query(\"What are the required documents for registration in a list?\")"
   ]
  },
  {
   "cell_type": "code",
   "execution_count": 17,
   "id": "874f37c8",
   "metadata": {},
   "outputs": [
    {
     "name": "stdout",
     "output_type": "stream",
     "text": [
      "- Valid identification documents in copy until the naturalization is completed (passport, travel document, ID card, etc.)\n",
      "- Curriculum vitae (only for individuals aged 16 and above) detailing personal and family background, education, professional activities, and previous nationality.\n",
      "- Current passport-sized photograph\n",
      "- Certified copy of the marriage register or extract from the marriage register with annotations\n",
      "- Birth certificate or international birth certificate (Form A)\n",
      "- Marriage certificate or international marriage certificate (Form B) for current marriage\n",
      "- Birth certificates of children\n",
      "- Proof of German nationality of the spouse\n",
      "- Divorce decree(s) (only the operative part and any decisions regarding parental custody and support obligations)\n",
      "- Proof of custody for ________________________________________\n",
      "- Evidence of the amount and fulfillment of support obligations towards ____________________________________________________\n",
      "- Certificates or other evidence of attending specific educational institutions: _______________________________________________________\n",
      "- Proof of vocational training and its completion\n",
      "- Proof of professional development and its completion\n",
      "- Proof of employment periods from ___________ to ___________\n",
      "- Employer's certificate of current employment\n",
      "- Most recent salary statement\n",
      "- Latest pension statement / notification\n",
      "- Current pension information with attachments\n",
      "- Evidence of private pension provisions (e.g., life insurance, retirement plans, stocks, real estate)\n"
     ]
    }
   ],
   "source": [
    "print(response)"
   ]
  },
  {
   "cell_type": "code",
   "execution_count": 20,
   "id": "7c3eb340",
   "metadata": {},
   "outputs": [
    {
     "name": "stdout",
     "output_type": "stream",
     "text": [
      "You should have stayed in Germany for a specific period of time to be eligible to apply for naturalization.\n"
     ]
    }
   ],
   "source": [
    "response = query_engine.query(\"For how long should I have stayed in Germany to apply for a neutralization? How many years should I have stayed in Germany to apply for a neutralization?\")\n",
    "print(response)"
   ]
  },
  {
   "cell_type": "code",
   "execution_count": 13,
   "id": "bc8901ea",
   "metadata": {},
   "outputs": [
    {
     "name": "stdout",
     "output_type": "stream",
     "text": [
      "Node 0: # Merkblatt über benötigte Unterlagen im Einbürgerungsverfahren\n",
      "\n",
      "- gültige Ausweispapiere bis zum Vollzug der Einbürgerung in Kopie (Pass, Reiseausweis, Passersatz, Personalausweis usw.)\n",
      "- Lebenslauf (nur bei Personen ab 16 Jahren). Der Lebenslauf soll möglichst genau über die persönlichen und familiären Verhältnisse, die Ausbildung, die beruflichen Tätigkeiten und die bisherige Staatsangehörigkeit Auskunft geben.\n",
      "- aktuelles Lichtbild\n",
      "- aktuelle beglaubigte Abschrift aus dem als Heiratsregister fortgeführten Familienbuch oder Auszug aus dem Heiratsregister mit Hinweisteil\n",
      "- Geburtsurkunde oder internationale Geburtsurkunde (Formül A)\n",
      "- Heiratsurkunde oder internationale Heiratsurkunde (Formül B) jetzige Ehe\n",
      "- Geburtsurkunden der Kinder\n",
      "- Nachweis der deutschen Staatsangehörigkeit des Ehegatten (siehe beiliegenden Vordruck)\n",
      "- Scheidungsurteil(e) (nur Tenor und ggf. Entscheidung über elterliche Sorge und Unterhaltsverpflichtungen)\n",
      "- Sorgerechtsnachweis bzgl. ________________________________________\n",
      "- Nachweis über die Höhe und Erfüllung der Unterhaltsverpflichtungen gegenüber ____________________________________________________\n",
      "- Zeugnisse oder andere Nachweise des Besuchs folgender Ausbildungsstätten: _______________________________________________________\n",
      "- Nachweis über Berufsausbildung und deren Abschluss\n",
      "- Nachweis über berufliche Fortbildung und deren Abschluss\n",
      "- Nachweis über die Beschäftigungszeiten von ___________ bis ___________\n",
      "- Bescheinigung des Arbeitgebers über das aktuelle Arbeitsverhältnis\n",
      "- neueste Gehaltsabrechnung\n",
      "- neuester Rentenbescheid / neueste Rentenmitteilung\n",
      "- aktuelle Rentenauskunft mit Anlagen\n",
      "- Nachweise über Ihre private Altersvorsorge (z.B. LV, RV, Aktien, Immobilien)\n",
      "Node 1: # Einbürgerungsantrag\n",
      "\n",
      "- Das beiliegende Merkblatt über die Beteiligung des Landesamtes für Verfassungsschutz geben Sie bitte unterschrieben an uns zurück.\n",
      "- Erklärung über die Aufgabe der jetzigen Staatsangehörigkeit (siehe Anlage)\n",
      "- Erklärung über die Beiziehung Ihrer Ausländerakte (siehe Anlage)\n",
      "- Erklärung zur Bestreitung des Lebensunterhaltes (siehe Anlage)\n",
      "- Ergänzung der Unterschrift auf beiliegender Kopie (bzgl. der Einbürgerung der Kinder müssen beide Elternteile unterschreiben)\n",
      "- Schulbescheinigung für ______________________________________\n",
      "- Merkblatt zur Verfassungstreue und Absage an alle Formen des Extremismus (siehe Anlage).\n",
      "\n",
      "Zur Abgabe des Bekenntnisses und der Loyalitätserklärung werden wir nach Überprüfung der sonstigen Einbürgerungsvoraussetzungen einen Termin zu einem Gespräch mit Ihnen vereinbaren. Wichtiger Hinweis: Zum Termin sind Ihre gültigen Ausweisdokumente (Pass oder Personalausweis) mitzubringen!\n",
      "\n",
      "- Zum Nachweis ausreichender Deutschkenntnisse für eine Einbürgerung in den deutschen Staatsverband ist es erforderlich, dass Sie uns mindestens ein Zertifikat Deutsch-Test für Zuwanderer (Niveau B1 des Gemeinsamen Europäischen Referenzrahmens für Sprachen) von einem hierfür lizenzierten Integrationskursträger, der die Lizenz besitzt, die Prüfung zum Zertifikat Deutsch-Test für Zuwanderer, unabhängig von einem Integrationskurs durchzuführen, vorlegen. Das Zertifikat muss auf einem einheitlich gestalteten Zeugnisvordruck der Fa. telc GmbH bzw. vom Goethe-Institut ausgestellt sein.\n",
      "- Es ist eine gemeinsame Vorsprache mit ihrem deutschen Ehegatten zur Abgabe einer Eheerklärung erforderlich; bitte vereinbaren Sie hierzu telefonisch einen Termin mit uns und bringen Sie ihre Ausweisdokumente mit.\n",
      "- Einbürgerungstest oder Test „Leben in Deutschland“ zum Nachweis über die Kenntnisse der Rechts- und Gesellschaftsordnung der BRD. Bitte wenden Sie sich diesbezüglich an die Volkshochschulen Heidelberg, Mannheim oder Sinsheim.\n",
      "- Begründung des Einbürgerungsantrages\n",
      "- Elektronischer Aufenthaltstitel (eAT)\n",
      "- Erweiterte Meldebescheinigung nach § 18 Absatz 2 BMG (Einwohnermeldeamt)\n",
      "- Das beiliegende Informationsblatt zur Datenschutzgrundordnung (DSGVO) nehmen Sie bitte zur Kenntnis und geben uns die Bestätigung darüber ausgefüllt und unterschrieben zurück.\n"
     ]
    }
   ],
   "source": [
    "for index, node in enumerate(response.source_nodes):\n",
    "    print(f\"Node {index}: {node.text}\")"
   ]
  }
 ],
 "metadata": {
  "kernelspec": {
   "display_name": "Python 3 (ipykernel)",
   "language": "python",
   "name": "python3"
  },
  "language_info": {
   "codemirror_mode": {
    "name": "ipython",
    "version": 3
   },
   "file_extension": ".py",
   "mimetype": "text/x-python",
   "name": "python",
   "nbconvert_exporter": "python",
   "pygments_lexer": "ipython3",
   "version": "3.12.5"
  }
 },
 "nbformat": 4,
 "nbformat_minor": 5
}
