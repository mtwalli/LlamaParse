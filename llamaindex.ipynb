{
 "cells": [
  {
   "cell_type": "markdown",
   "id": "86fd39e1",
   "metadata": {},
   "source": [
    "# Import Llama Parse"
   ]
  },
  {
   "cell_type": "code",
   "execution_count": 1,
   "id": "aa1e486b-cc3b-41a2-86a7-d2fe2d396c3e",
   "metadata": {},
   "outputs": [],
   "source": [
    "from llama_parse import LlamaParse\n",
    "from dotenv import load_dotenv, find_dotenv\n",
    "import nest_asyncio\n",
    "import os"
   ]
  },
  {
   "cell_type": "code",
   "execution_count": 2,
   "id": "59677f22-6614-4bd4-9747-2b7190164e8c",
   "metadata": {},
   "outputs": [],
   "source": [
    "load_dotenv(find_dotenv())\n",
    "parser = LlamaParse(\n",
    "    api_key=os.getenv(\"LLAMA_CLOUD_API_KEY\"),\n",
    "    result_type=\"markdown\",  # \"markdown\" and \"text\" are available\n",
    "    num_workers=4,  # if multiple files passed, split in `num_workers` API calls\n",
    "    verbose=True,\n",
    "    language=\"de\",  # Optionally you can define a language, default=en\n",
    ")"
   ]
  },
  {
   "cell_type": "code",
   "execution_count": 3,
   "id": "a9c54aa6",
   "metadata": {},
   "outputs": [
    {
     "name": "stdout",
     "output_type": "stream",
     "text": [
      "Started parsing the file under job_id 14d5b26c-e860-48bf-bafa-a57f34858581\n"
     ]
    }
   ],
   "source": [
    "nest_asyncio.apply()\n",
    "documents = parser.load_data('temp/1.pdf')"
   ]
  },
  {
   "cell_type": "code",
   "execution_count": 4,
   "id": "c4dea056",
   "metadata": {},
   "outputs": [],
   "source": [
    "file_name = \"temp/sap_2024.md\"\n",
    "text = ''\n",
    "for document in documents:\n",
    "    text += document.text\n",
    "\n",
    "with open(file_name, 'w') as file:\n",
    "    file.write(text)\n"
   ]
  },
  {
   "cell_type": "code",
   "execution_count": 5,
   "id": "6dc7ce9b",
   "metadata": {},
   "outputs": [
    {
     "data": {
      "text/plain": [
       "'# SAP Halbjahresbericht der SAP 2024\\n\\n# Halbjahresbericht\\n\\n# der SAP\\n\\n2024\\n\\n1/56# Halbjahresbericht '"
      ]
     },
     "execution_count": 5,
     "metadata": {},
     "output_type": "execute_result"
    }
   ],
   "source": [
    "text[:100]  # print the first 300 characters of the text  "
   ]
  }
 ],
 "metadata": {
  "kernelspec": {
   "display_name": "Python 3 (ipykernel)",
   "language": "python",
   "name": "python3"
  },
  "language_info": {
   "codemirror_mode": {
    "name": "ipython",
    "version": 3
   },
   "file_extension": ".py",
   "mimetype": "text/x-python",
   "name": "python",
   "nbconvert_exporter": "python",
   "pygments_lexer": "ipython3",
   "version": "3.12.5"
  }
 },
 "nbformat": 4,
 "nbformat_minor": 5
}
